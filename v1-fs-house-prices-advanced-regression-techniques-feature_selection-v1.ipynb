{
 "cells": [
  {
   "cell_type": "markdown",
   "metadata": {},
   "source": [
    "## House Prices: Advanced Regression Techniques"
   ]
  },
  {
   "cell_type": "markdown",
   "metadata": {},
   "source": [
    "# Feature Selection / Engineering"
   ]
  },
  {
   "cell_type": "markdown",
   "metadata": {},
   "source": [
    "## Import Libraries"
   ]
  },
  {
   "cell_type": "code",
   "execution_count": 1,
   "metadata": {},
   "outputs": [],
   "source": [
    "import numpy as np\n",
    "import pandas as pd\n",
    "import matplotlib.pyplot as plt\n",
    "import seaborn as sns"
   ]
  },
  {
   "cell_type": "code",
   "execution_count": 2,
   "metadata": {
    "scrolled": true
   },
   "outputs": [
    {
     "data": {
      "text/html": [
       "<div>\n",
       "<style scoped>\n",
       "    .dataframe tbody tr th:only-of-type {\n",
       "        vertical-align: middle;\n",
       "    }\n",
       "\n",
       "    .dataframe tbody tr th {\n",
       "        vertical-align: top;\n",
       "    }\n",
       "\n",
       "    .dataframe thead th {\n",
       "        text-align: right;\n",
       "    }\n",
       "</style>\n",
       "<table border=\"1\" class=\"dataframe\">\n",
       "  <thead>\n",
       "    <tr style=\"text-align: right;\">\n",
       "      <th></th>\n",
       "      <th>1stFlrSF</th>\n",
       "      <th>2ndFlrSF</th>\n",
       "      <th>3SsnPorch</th>\n",
       "      <th>BedroomAbvGr</th>\n",
       "      <th>BldgType</th>\n",
       "      <th>BsmtCond</th>\n",
       "      <th>BsmtExposure</th>\n",
       "      <th>BsmtFinSF1</th>\n",
       "      <th>BsmtFinSF2</th>\n",
       "      <th>BsmtFinType1</th>\n",
       "      <th>...</th>\n",
       "      <th>SaleType</th>\n",
       "      <th>ScreenPorch</th>\n",
       "      <th>Street</th>\n",
       "      <th>TotRmsAbvGrd</th>\n",
       "      <th>TotalBsmtSF</th>\n",
       "      <th>Utilities</th>\n",
       "      <th>WoodDeckSF</th>\n",
       "      <th>YearBuilt</th>\n",
       "      <th>YearRemodAdd</th>\n",
       "      <th>YrSold</th>\n",
       "    </tr>\n",
       "  </thead>\n",
       "  <tbody>\n",
       "    <tr>\n",
       "      <th>0</th>\n",
       "      <td>6.753438</td>\n",
       "      <td>6.751101</td>\n",
       "      <td>0.0</td>\n",
       "      <td>1.386294</td>\n",
       "      <td>1Fam</td>\n",
       "      <td>3</td>\n",
       "      <td>-1</td>\n",
       "      <td>6.561031</td>\n",
       "      <td>0.0</td>\n",
       "      <td>6</td>\n",
       "      <td>...</td>\n",
       "      <td>WD</td>\n",
       "      <td>0.0</td>\n",
       "      <td>Pave</td>\n",
       "      <td>2.197225</td>\n",
       "      <td>6.753438</td>\n",
       "      <td>3</td>\n",
       "      <td>0.000000</td>\n",
       "      <td>2003</td>\n",
       "      <td>2003</td>\n",
       "      <td>2008</td>\n",
       "    </tr>\n",
       "    <tr>\n",
       "      <th>1</th>\n",
       "      <td>7.141245</td>\n",
       "      <td>0.000000</td>\n",
       "      <td>0.0</td>\n",
       "      <td>1.386294</td>\n",
       "      <td>1Fam</td>\n",
       "      <td>3</td>\n",
       "      <td>3</td>\n",
       "      <td>6.886532</td>\n",
       "      <td>0.0</td>\n",
       "      <td>5</td>\n",
       "      <td>...</td>\n",
       "      <td>WD</td>\n",
       "      <td>0.0</td>\n",
       "      <td>Pave</td>\n",
       "      <td>1.945910</td>\n",
       "      <td>7.141245</td>\n",
       "      <td>3</td>\n",
       "      <td>5.700444</td>\n",
       "      <td>1976</td>\n",
       "      <td>1976</td>\n",
       "      <td>2007</td>\n",
       "    </tr>\n",
       "    <tr>\n",
       "      <th>2</th>\n",
       "      <td>6.825460</td>\n",
       "      <td>6.765039</td>\n",
       "      <td>0.0</td>\n",
       "      <td>1.386294</td>\n",
       "      <td>1Fam</td>\n",
       "      <td>3</td>\n",
       "      <td>1</td>\n",
       "      <td>6.188264</td>\n",
       "      <td>0.0</td>\n",
       "      <td>6</td>\n",
       "      <td>...</td>\n",
       "      <td>WD</td>\n",
       "      <td>0.0</td>\n",
       "      <td>Pave</td>\n",
       "      <td>1.945910</td>\n",
       "      <td>6.825460</td>\n",
       "      <td>3</td>\n",
       "      <td>0.000000</td>\n",
       "      <td>2001</td>\n",
       "      <td>2002</td>\n",
       "      <td>2008</td>\n",
       "    </tr>\n",
       "    <tr>\n",
       "      <th>3</th>\n",
       "      <td>6.869014</td>\n",
       "      <td>6.629363</td>\n",
       "      <td>0.0</td>\n",
       "      <td>1.386294</td>\n",
       "      <td>1Fam</td>\n",
       "      <td>4</td>\n",
       "      <td>-1</td>\n",
       "      <td>5.379897</td>\n",
       "      <td>0.0</td>\n",
       "      <td>5</td>\n",
       "      <td>...</td>\n",
       "      <td>WD</td>\n",
       "      <td>0.0</td>\n",
       "      <td>Pave</td>\n",
       "      <td>2.079442</td>\n",
       "      <td>6.629363</td>\n",
       "      <td>3</td>\n",
       "      <td>0.000000</td>\n",
       "      <td>1915</td>\n",
       "      <td>1970</td>\n",
       "      <td>2006</td>\n",
       "    </tr>\n",
       "    <tr>\n",
       "      <th>4</th>\n",
       "      <td>7.044033</td>\n",
       "      <td>6.960348</td>\n",
       "      <td>0.0</td>\n",
       "      <td>1.609438</td>\n",
       "      <td>1Fam</td>\n",
       "      <td>3</td>\n",
       "      <td>2</td>\n",
       "      <td>6.486161</td>\n",
       "      <td>0.0</td>\n",
       "      <td>6</td>\n",
       "      <td>...</td>\n",
       "      <td>WD</td>\n",
       "      <td>0.0</td>\n",
       "      <td>Pave</td>\n",
       "      <td>2.302585</td>\n",
       "      <td>7.044033</td>\n",
       "      <td>3</td>\n",
       "      <td>5.262690</td>\n",
       "      <td>2000</td>\n",
       "      <td>2000</td>\n",
       "      <td>2008</td>\n",
       "    </tr>\n",
       "    <tr>\n",
       "      <th>...</th>\n",
       "      <td>...</td>\n",
       "      <td>...</td>\n",
       "      <td>...</td>\n",
       "      <td>...</td>\n",
       "      <td>...</td>\n",
       "      <td>...</td>\n",
       "      <td>...</td>\n",
       "      <td>...</td>\n",
       "      <td>...</td>\n",
       "      <td>...</td>\n",
       "      <td>...</td>\n",
       "      <td>...</td>\n",
       "      <td>...</td>\n",
       "      <td>...</td>\n",
       "      <td>...</td>\n",
       "      <td>...</td>\n",
       "      <td>...</td>\n",
       "      <td>...</td>\n",
       "      <td>...</td>\n",
       "      <td>...</td>\n",
       "      <td>...</td>\n",
       "    </tr>\n",
       "    <tr>\n",
       "      <th>2914</th>\n",
       "      <td>6.304449</td>\n",
       "      <td>6.304449</td>\n",
       "      <td>0.0</td>\n",
       "      <td>1.386294</td>\n",
       "      <td>Twnhs</td>\n",
       "      <td>3</td>\n",
       "      <td>-1</td>\n",
       "      <td>0.000000</td>\n",
       "      <td>0.0</td>\n",
       "      <td>1</td>\n",
       "      <td>...</td>\n",
       "      <td>WD</td>\n",
       "      <td>0.0</td>\n",
       "      <td>Pave</td>\n",
       "      <td>1.791759</td>\n",
       "      <td>6.304449</td>\n",
       "      <td>3</td>\n",
       "      <td>0.000000</td>\n",
       "      <td>1970</td>\n",
       "      <td>1970</td>\n",
       "      <td>2006</td>\n",
       "    </tr>\n",
       "    <tr>\n",
       "      <th>2915</th>\n",
       "      <td>6.304449</td>\n",
       "      <td>6.304449</td>\n",
       "      <td>0.0</td>\n",
       "      <td>1.386294</td>\n",
       "      <td>TwnhsE</td>\n",
       "      <td>3</td>\n",
       "      <td>-1</td>\n",
       "      <td>5.533389</td>\n",
       "      <td>0.0</td>\n",
       "      <td>3</td>\n",
       "      <td>...</td>\n",
       "      <td>WD</td>\n",
       "      <td>0.0</td>\n",
       "      <td>Pave</td>\n",
       "      <td>1.945910</td>\n",
       "      <td>6.304449</td>\n",
       "      <td>3</td>\n",
       "      <td>0.000000</td>\n",
       "      <td>1970</td>\n",
       "      <td>1970</td>\n",
       "      <td>2006</td>\n",
       "    </tr>\n",
       "    <tr>\n",
       "      <th>2916</th>\n",
       "      <td>7.110696</td>\n",
       "      <td>0.000000</td>\n",
       "      <td>0.0</td>\n",
       "      <td>1.609438</td>\n",
       "      <td>1Fam</td>\n",
       "      <td>3</td>\n",
       "      <td>-1</td>\n",
       "      <td>7.110696</td>\n",
       "      <td>0.0</td>\n",
       "      <td>5</td>\n",
       "      <td>...</td>\n",
       "      <td>WD</td>\n",
       "      <td>0.0</td>\n",
       "      <td>Pave</td>\n",
       "      <td>2.079442</td>\n",
       "      <td>7.110696</td>\n",
       "      <td>3</td>\n",
       "      <td>6.163315</td>\n",
       "      <td>1960</td>\n",
       "      <td>1996</td>\n",
       "      <td>2006</td>\n",
       "    </tr>\n",
       "    <tr>\n",
       "      <th>2917</th>\n",
       "      <td>6.878326</td>\n",
       "      <td>0.000000</td>\n",
       "      <td>0.0</td>\n",
       "      <td>1.386294</td>\n",
       "      <td>1Fam</td>\n",
       "      <td>3</td>\n",
       "      <td>2</td>\n",
       "      <td>5.823046</td>\n",
       "      <td>0.0</td>\n",
       "      <td>6</td>\n",
       "      <td>...</td>\n",
       "      <td>WD</td>\n",
       "      <td>0.0</td>\n",
       "      <td>Pave</td>\n",
       "      <td>1.945910</td>\n",
       "      <td>6.816736</td>\n",
       "      <td>3</td>\n",
       "      <td>4.394449</td>\n",
       "      <td>1992</td>\n",
       "      <td>1992</td>\n",
       "      <td>2006</td>\n",
       "    </tr>\n",
       "    <tr>\n",
       "      <th>2918</th>\n",
       "      <td>6.904751</td>\n",
       "      <td>6.912743</td>\n",
       "      <td>0.0</td>\n",
       "      <td>1.386294</td>\n",
       "      <td>1Fam</td>\n",
       "      <td>3</td>\n",
       "      <td>2</td>\n",
       "      <td>6.632002</td>\n",
       "      <td>0.0</td>\n",
       "      <td>2</td>\n",
       "      <td>...</td>\n",
       "      <td>WD</td>\n",
       "      <td>0.0</td>\n",
       "      <td>Pave</td>\n",
       "      <td>2.302585</td>\n",
       "      <td>6.904751</td>\n",
       "      <td>3</td>\n",
       "      <td>5.252273</td>\n",
       "      <td>1993</td>\n",
       "      <td>1994</td>\n",
       "      <td>2006</td>\n",
       "    </tr>\n",
       "  </tbody>\n",
       "</table>\n",
       "<p>2919 rows × 74 columns</p>\n",
       "</div>"
      ],
      "text/plain": [
       "      1stFlrSF  2ndFlrSF  3SsnPorch  BedroomAbvGr BldgType  BsmtCond  \\\n",
       "0     6.753438  6.751101        0.0      1.386294     1Fam         3   \n",
       "1     7.141245  0.000000        0.0      1.386294     1Fam         3   \n",
       "2     6.825460  6.765039        0.0      1.386294     1Fam         3   \n",
       "3     6.869014  6.629363        0.0      1.386294     1Fam         4   \n",
       "4     7.044033  6.960348        0.0      1.609438     1Fam         3   \n",
       "...        ...       ...        ...           ...      ...       ...   \n",
       "2914  6.304449  6.304449        0.0      1.386294    Twnhs         3   \n",
       "2915  6.304449  6.304449        0.0      1.386294   TwnhsE         3   \n",
       "2916  7.110696  0.000000        0.0      1.609438     1Fam         3   \n",
       "2917  6.878326  0.000000        0.0      1.386294     1Fam         3   \n",
       "2918  6.904751  6.912743        0.0      1.386294     1Fam         3   \n",
       "\n",
       "      BsmtExposure  BsmtFinSF1  BsmtFinSF2  BsmtFinType1  ...  SaleType  \\\n",
       "0               -1    6.561031         0.0             6  ...        WD   \n",
       "1                3    6.886532         0.0             5  ...        WD   \n",
       "2                1    6.188264         0.0             6  ...        WD   \n",
       "3               -1    5.379897         0.0             5  ...        WD   \n",
       "4                2    6.486161         0.0             6  ...        WD   \n",
       "...            ...         ...         ...           ...  ...       ...   \n",
       "2914            -1    0.000000         0.0             1  ...        WD   \n",
       "2915            -1    5.533389         0.0             3  ...        WD   \n",
       "2916            -1    7.110696         0.0             5  ...        WD   \n",
       "2917             2    5.823046         0.0             6  ...        WD   \n",
       "2918             2    6.632002         0.0             2  ...        WD   \n",
       "\n",
       "      ScreenPorch  Street  TotRmsAbvGrd  TotalBsmtSF Utilities WoodDeckSF  \\\n",
       "0             0.0    Pave      2.197225     6.753438         3   0.000000   \n",
       "1             0.0    Pave      1.945910     7.141245         3   5.700444   \n",
       "2             0.0    Pave      1.945910     6.825460         3   0.000000   \n",
       "3             0.0    Pave      2.079442     6.629363         3   0.000000   \n",
       "4             0.0    Pave      2.302585     7.044033         3   5.262690   \n",
       "...           ...     ...           ...          ...       ...        ...   \n",
       "2914          0.0    Pave      1.791759     6.304449         3   0.000000   \n",
       "2915          0.0    Pave      1.945910     6.304449         3   0.000000   \n",
       "2916          0.0    Pave      2.079442     7.110696         3   6.163315   \n",
       "2917          0.0    Pave      1.945910     6.816736         3   4.394449   \n",
       "2918          0.0    Pave      2.302585     6.904751         3   5.252273   \n",
       "\n",
       "     YearBuilt YearRemodAdd  YrSold  \n",
       "0         2003         2003    2008  \n",
       "1         1976         1976    2007  \n",
       "2         2001         2002    2008  \n",
       "3         1915         1970    2006  \n",
       "4         2000         2000    2008  \n",
       "...        ...          ...     ...  \n",
       "2914      1970         1970    2006  \n",
       "2915      1970         1970    2006  \n",
       "2916      1960         1996    2006  \n",
       "2917      1992         1992    2006  \n",
       "2918      1993         1994    2006  \n",
       "\n",
       "[2919 rows x 74 columns]"
      ]
     },
     "execution_count": 2,
     "metadata": {},
     "output_type": "execute_result"
    }
   ],
   "source": [
    "df = pd.read_csv('df_for_feature_engineering.csv')\n",
    "train = pd.read_csv('train.csv')\n",
    "test = pd.read_csv('test.csv')\n",
    "df"
   ]
  },
  {
   "cell_type": "code",
   "execution_count": 3,
   "metadata": {
    "scrolled": true
   },
   "outputs": [],
   "source": [
    "#df = df.set_index('Id')"
   ]
  },
  {
   "cell_type": "markdown",
   "metadata": {},
   "source": [
    "# Drop feature"
   ]
  },
  {
   "cell_type": "code",
   "execution_count": 4,
   "metadata": {},
   "outputs": [],
   "source": [
    "df = df.drop(['YrSold',\n",
    " 'LowQualFinSF',\n",
    " 'MiscVal',\n",
    " 'BsmtHalfBath',\n",
    " 'BsmtFinSF2',\n",
    " '3SsnPorch',\n",
    " 'MoSold'],axis=1)"
   ]
  },
  {
   "cell_type": "code",
   "execution_count": 5,
   "metadata": {},
   "outputs": [
    {
     "data": {
      "text/plain": [
       "['1stFlrSF',\n",
       " '2ndFlrSF',\n",
       " 'BedroomAbvGr',\n",
       " 'BsmtCond',\n",
       " 'BsmtExposure',\n",
       " 'BsmtFinSF1',\n",
       " 'BsmtFinType1',\n",
       " 'BsmtFinType2',\n",
       " 'BsmtFullBath',\n",
       " 'BsmtQual',\n",
       " 'BsmtUnfSF',\n",
       " 'EnclosedPorch',\n",
       " 'ExterCond',\n",
       " 'ExterQual',\n",
       " 'Fireplaces',\n",
       " 'FullBath',\n",
       " 'Functional',\n",
       " 'GarageArea',\n",
       " 'GarageCars',\n",
       " 'GarageCond',\n",
       " 'GarageFinish',\n",
       " 'GarageQual',\n",
       " 'GarageYrBlt',\n",
       " 'GrLivArea',\n",
       " 'HalfBath',\n",
       " 'HeatingQC',\n",
       " 'KitchenAbvGr',\n",
       " 'KitchenQual',\n",
       " 'LotArea',\n",
       " 'LotFrontage',\n",
       " 'MSSubClass',\n",
       " 'MasVnrArea',\n",
       " 'OpenPorchSF',\n",
       " 'OverallCond',\n",
       " 'OverallQual',\n",
       " 'PavedDrive',\n",
       " 'PoolArea',\n",
       " 'ScreenPorch',\n",
       " 'TotRmsAbvGrd',\n",
       " 'TotalBsmtSF',\n",
       " 'Utilities',\n",
       " 'WoodDeckSF',\n",
       " 'YearBuilt',\n",
       " 'YearRemodAdd']"
      ]
     },
     "execution_count": 5,
     "metadata": {},
     "output_type": "execute_result"
    }
   ],
   "source": [
    "quan = list(df.loc[:,df.dtypes != 'object'].columns.values)\n",
    "quan"
   ]
  },
  {
   "cell_type": "code",
   "execution_count": 6,
   "metadata": {},
   "outputs": [],
   "source": [
    "skewd_feat = ['1stFlrSF',\n",
    " '2ndFlrSF',\n",
    " 'BedroomAbvGr',\n",
    " 'BsmtFinSF1',\n",
    " 'BsmtFullBath',\n",
    " 'BsmtUnfSF',\n",
    " 'EnclosedPorch',\n",
    " 'Fireplaces',\n",
    " 'FullBath',\n",
    " 'GarageArea',\n",
    " 'GarageCars',\n",
    " 'GrLivArea',\n",
    " 'HalfBath',\n",
    " 'KitchenAbvGr',\n",
    " 'LotArea',\n",
    " 'LotFrontage',\n",
    " 'MasVnrArea',\n",
    " 'OpenPorchSF',\n",
    " 'PoolArea',\n",
    " 'ScreenPorch',\n",
    " 'TotRmsAbvGrd',\n",
    " 'TotalBsmtSF',\n",
    " 'WoodDeckSF']\n",
    "#  '3SsnPorch',  'BsmtFinSF2',  'BsmtHalfBath',  'LowQualFinSF', 'MiscVal'"
   ]
  },
  {
   "cell_type": "code",
   "execution_count": 7,
   "metadata": {},
   "outputs": [],
   "source": [
    "# Decrease the skewness of the data\n",
    "for i in skewd_feat:\n",
    "    df[i] = np.log(df[i] + 1)\n",
    "    \n",
    "SalePrice = np.log(train['SalePrice'] + 1)"
   ]
  },
  {
   "cell_type": "markdown",
   "metadata": {},
   "source": [
    "# decrease the skewnwnes of the data\n",
    "for i in skewed_features:\n",
    "    df[i] = np.log(df[i] + 1)\n",
    "    "
   ]
  },
  {
   "cell_type": "code",
   "execution_count": 8,
   "metadata": {},
   "outputs": [
    {
     "data": {
      "text/html": [
       "<div>\n",
       "<style scoped>\n",
       "    .dataframe tbody tr th:only-of-type {\n",
       "        vertical-align: middle;\n",
       "    }\n",
       "\n",
       "    .dataframe tbody tr th {\n",
       "        vertical-align: top;\n",
       "    }\n",
       "\n",
       "    .dataframe thead th {\n",
       "        text-align: right;\n",
       "    }\n",
       "</style>\n",
       "<table border=\"1\" class=\"dataframe\">\n",
       "  <thead>\n",
       "    <tr style=\"text-align: right;\">\n",
       "      <th></th>\n",
       "      <th>1stFlrSF</th>\n",
       "      <th>2ndFlrSF</th>\n",
       "      <th>BedroomAbvGr</th>\n",
       "      <th>BldgType</th>\n",
       "      <th>BsmtCond</th>\n",
       "      <th>BsmtExposure</th>\n",
       "      <th>BsmtFinSF1</th>\n",
       "      <th>BsmtFinType1</th>\n",
       "      <th>BsmtFinType2</th>\n",
       "      <th>BsmtFullBath</th>\n",
       "      <th>...</th>\n",
       "      <th>SaleCondition</th>\n",
       "      <th>SaleType</th>\n",
       "      <th>ScreenPorch</th>\n",
       "      <th>Street</th>\n",
       "      <th>TotRmsAbvGrd</th>\n",
       "      <th>TotalBsmtSF</th>\n",
       "      <th>Utilities</th>\n",
       "      <th>WoodDeckSF</th>\n",
       "      <th>YearBuilt</th>\n",
       "      <th>YearRemodAdd</th>\n",
       "    </tr>\n",
       "  </thead>\n",
       "  <tbody>\n",
       "    <tr>\n",
       "      <th>0</th>\n",
       "      <td>2.048136</td>\n",
       "      <td>2.047835</td>\n",
       "      <td>0.869742</td>\n",
       "      <td>1Fam</td>\n",
       "      <td>3</td>\n",
       "      <td>-1</td>\n",
       "      <td>2.023008</td>\n",
       "      <td>6</td>\n",
       "      <td>1</td>\n",
       "      <td>0.526589</td>\n",
       "      <td>...</td>\n",
       "      <td>Normal</td>\n",
       "      <td>WD</td>\n",
       "      <td>0.0</td>\n",
       "      <td>Pave</td>\n",
       "      <td>1.162283</td>\n",
       "      <td>2.048136</td>\n",
       "      <td>3</td>\n",
       "      <td>0.000000</td>\n",
       "      <td>2003</td>\n",
       "      <td>2003</td>\n",
       "    </tr>\n",
       "    <tr>\n",
       "      <th>1</th>\n",
       "      <td>2.096943</td>\n",
       "      <td>0.000000</td>\n",
       "      <td>0.869742</td>\n",
       "      <td>1Fam</td>\n",
       "      <td>3</td>\n",
       "      <td>3</td>\n",
       "      <td>2.065156</td>\n",
       "      <td>5</td>\n",
       "      <td>1</td>\n",
       "      <td>0.000000</td>\n",
       "      <td>...</td>\n",
       "      <td>Normal</td>\n",
       "      <td>WD</td>\n",
       "      <td>0.0</td>\n",
       "      <td>Pave</td>\n",
       "      <td>1.080418</td>\n",
       "      <td>2.096943</td>\n",
       "      <td>3</td>\n",
       "      <td>1.902174</td>\n",
       "      <td>1976</td>\n",
       "      <td>1976</td>\n",
       "    </tr>\n",
       "    <tr>\n",
       "      <th>2</th>\n",
       "      <td>2.057383</td>\n",
       "      <td>2.049631</td>\n",
       "      <td>0.869742</td>\n",
       "      <td>1Fam</td>\n",
       "      <td>3</td>\n",
       "      <td>1</td>\n",
       "      <td>1.972450</td>\n",
       "      <td>6</td>\n",
       "      <td>1</td>\n",
       "      <td>0.526589</td>\n",
       "      <td>...</td>\n",
       "      <td>Normal</td>\n",
       "      <td>WD</td>\n",
       "      <td>0.0</td>\n",
       "      <td>Pave</td>\n",
       "      <td>1.080418</td>\n",
       "      <td>2.057383</td>\n",
       "      <td>3</td>\n",
       "      <td>0.000000</td>\n",
       "      <td>2001</td>\n",
       "      <td>2002</td>\n",
       "    </tr>\n",
       "    <tr>\n",
       "      <th>3</th>\n",
       "      <td>2.062933</td>\n",
       "      <td>2.032004</td>\n",
       "      <td>0.869742</td>\n",
       "      <td>1Fam</td>\n",
       "      <td>4</td>\n",
       "      <td>-1</td>\n",
       "      <td>1.853152</td>\n",
       "      <td>5</td>\n",
       "      <td>1</td>\n",
       "      <td>0.526589</td>\n",
       "      <td>...</td>\n",
       "      <td>Abnorml</td>\n",
       "      <td>WD</td>\n",
       "      <td>0.0</td>\n",
       "      <td>Pave</td>\n",
       "      <td>1.124748</td>\n",
       "      <td>2.032004</td>\n",
       "      <td>3</td>\n",
       "      <td>0.000000</td>\n",
       "      <td>1915</td>\n",
       "      <td>1970</td>\n",
       "    </tr>\n",
       "    <tr>\n",
       "      <th>4</th>\n",
       "      <td>2.084931</td>\n",
       "      <td>2.074473</td>\n",
       "      <td>0.959135</td>\n",
       "      <td>1Fam</td>\n",
       "      <td>3</td>\n",
       "      <td>2</td>\n",
       "      <td>2.013056</td>\n",
       "      <td>6</td>\n",
       "      <td>1</td>\n",
       "      <td>0.526589</td>\n",
       "      <td>...</td>\n",
       "      <td>Normal</td>\n",
       "      <td>WD</td>\n",
       "      <td>0.0</td>\n",
       "      <td>Pave</td>\n",
       "      <td>1.194706</td>\n",
       "      <td>2.084931</td>\n",
       "      <td>3</td>\n",
       "      <td>1.834610</td>\n",
       "      <td>2000</td>\n",
       "      <td>2000</td>\n",
       "    </tr>\n",
       "    <tr>\n",
       "      <th>...</th>\n",
       "      <td>...</td>\n",
       "      <td>...</td>\n",
       "      <td>...</td>\n",
       "      <td>...</td>\n",
       "      <td>...</td>\n",
       "      <td>...</td>\n",
       "      <td>...</td>\n",
       "      <td>...</td>\n",
       "      <td>...</td>\n",
       "      <td>...</td>\n",
       "      <td>...</td>\n",
       "      <td>...</td>\n",
       "      <td>...</td>\n",
       "      <td>...</td>\n",
       "      <td>...</td>\n",
       "      <td>...</td>\n",
       "      <td>...</td>\n",
       "      <td>...</td>\n",
       "      <td>...</td>\n",
       "      <td>...</td>\n",
       "      <td>...</td>\n",
       "    </tr>\n",
       "    <tr>\n",
       "      <th>2914</th>\n",
       "      <td>1.988484</td>\n",
       "      <td>1.988484</td>\n",
       "      <td>0.869742</td>\n",
       "      <td>Twnhs</td>\n",
       "      <td>3</td>\n",
       "      <td>-1</td>\n",
       "      <td>0.000000</td>\n",
       "      <td>1</td>\n",
       "      <td>1</td>\n",
       "      <td>0.000000</td>\n",
       "      <td>...</td>\n",
       "      <td>Normal</td>\n",
       "      <td>WD</td>\n",
       "      <td>0.0</td>\n",
       "      <td>Pave</td>\n",
       "      <td>1.026672</td>\n",
       "      <td>1.988484</td>\n",
       "      <td>3</td>\n",
       "      <td>0.000000</td>\n",
       "      <td>1970</td>\n",
       "      <td>1970</td>\n",
       "    </tr>\n",
       "    <tr>\n",
       "      <th>2915</th>\n",
       "      <td>1.988484</td>\n",
       "      <td>1.988484</td>\n",
       "      <td>0.869742</td>\n",
       "      <td>TwnhsE</td>\n",
       "      <td>3</td>\n",
       "      <td>-1</td>\n",
       "      <td>1.876926</td>\n",
       "      <td>3</td>\n",
       "      <td>1</td>\n",
       "      <td>0.000000</td>\n",
       "      <td>...</td>\n",
       "      <td>Abnorml</td>\n",
       "      <td>WD</td>\n",
       "      <td>0.0</td>\n",
       "      <td>Pave</td>\n",
       "      <td>1.080418</td>\n",
       "      <td>1.988484</td>\n",
       "      <td>3</td>\n",
       "      <td>0.000000</td>\n",
       "      <td>1970</td>\n",
       "      <td>1970</td>\n",
       "    </tr>\n",
       "    <tr>\n",
       "      <th>2916</th>\n",
       "      <td>2.093184</td>\n",
       "      <td>0.000000</td>\n",
       "      <td>0.959135</td>\n",
       "      <td>1Fam</td>\n",
       "      <td>3</td>\n",
       "      <td>-1</td>\n",
       "      <td>2.093184</td>\n",
       "      <td>5</td>\n",
       "      <td>1</td>\n",
       "      <td>0.526589</td>\n",
       "      <td>...</td>\n",
       "      <td>Abnorml</td>\n",
       "      <td>WD</td>\n",
       "      <td>0.0</td>\n",
       "      <td>Pave</td>\n",
       "      <td>1.124748</td>\n",
       "      <td>2.093184</td>\n",
       "      <td>3</td>\n",
       "      <td>1.968973</td>\n",
       "      <td>1960</td>\n",
       "      <td>1996</td>\n",
       "    </tr>\n",
       "    <tr>\n",
       "      <th>2917</th>\n",
       "      <td>2.064116</td>\n",
       "      <td>0.000000</td>\n",
       "      <td>0.869742</td>\n",
       "      <td>1Fam</td>\n",
       "      <td>3</td>\n",
       "      <td>2</td>\n",
       "      <td>1.920306</td>\n",
       "      <td>6</td>\n",
       "      <td>1</td>\n",
       "      <td>0.000000</td>\n",
       "      <td>...</td>\n",
       "      <td>Normal</td>\n",
       "      <td>WD</td>\n",
       "      <td>0.0</td>\n",
       "      <td>Pave</td>\n",
       "      <td>1.080418</td>\n",
       "      <td>2.056267</td>\n",
       "      <td>3</td>\n",
       "      <td>1.685370</td>\n",
       "      <td>1992</td>\n",
       "      <td>1992</td>\n",
       "    </tr>\n",
       "    <tr>\n",
       "      <th>2918</th>\n",
       "      <td>2.067464</td>\n",
       "      <td>2.068474</td>\n",
       "      <td>0.869742</td>\n",
       "      <td>1Fam</td>\n",
       "      <td>3</td>\n",
       "      <td>2</td>\n",
       "      <td>2.032350</td>\n",
       "      <td>2</td>\n",
       "      <td>1</td>\n",
       "      <td>0.000000</td>\n",
       "      <td>...</td>\n",
       "      <td>Normal</td>\n",
       "      <td>WD</td>\n",
       "      <td>0.0</td>\n",
       "      <td>Pave</td>\n",
       "      <td>1.194706</td>\n",
       "      <td>2.067464</td>\n",
       "      <td>3</td>\n",
       "      <td>1.832945</td>\n",
       "      <td>1993</td>\n",
       "      <td>1994</td>\n",
       "    </tr>\n",
       "  </tbody>\n",
       "</table>\n",
       "<p>2919 rows × 67 columns</p>\n",
       "</div>"
      ],
      "text/plain": [
       "      1stFlrSF  2ndFlrSF  BedroomAbvGr BldgType  BsmtCond  BsmtExposure  \\\n",
       "0     2.048136  2.047835      0.869742     1Fam         3            -1   \n",
       "1     2.096943  0.000000      0.869742     1Fam         3             3   \n",
       "2     2.057383  2.049631      0.869742     1Fam         3             1   \n",
       "3     2.062933  2.032004      0.869742     1Fam         4            -1   \n",
       "4     2.084931  2.074473      0.959135     1Fam         3             2   \n",
       "...        ...       ...           ...      ...       ...           ...   \n",
       "2914  1.988484  1.988484      0.869742    Twnhs         3            -1   \n",
       "2915  1.988484  1.988484      0.869742   TwnhsE         3            -1   \n",
       "2916  2.093184  0.000000      0.959135     1Fam         3            -1   \n",
       "2917  2.064116  0.000000      0.869742     1Fam         3             2   \n",
       "2918  2.067464  2.068474      0.869742     1Fam         3             2   \n",
       "\n",
       "      BsmtFinSF1  BsmtFinType1  BsmtFinType2  BsmtFullBath  ...  \\\n",
       "0       2.023008             6             1      0.526589  ...   \n",
       "1       2.065156             5             1      0.000000  ...   \n",
       "2       1.972450             6             1      0.526589  ...   \n",
       "3       1.853152             5             1      0.526589  ...   \n",
       "4       2.013056             6             1      0.526589  ...   \n",
       "...          ...           ...           ...           ...  ...   \n",
       "2914    0.000000             1             1      0.000000  ...   \n",
       "2915    1.876926             3             1      0.000000  ...   \n",
       "2916    2.093184             5             1      0.526589  ...   \n",
       "2917    1.920306             6             1      0.000000  ...   \n",
       "2918    2.032350             2             1      0.000000  ...   \n",
       "\n",
       "      SaleCondition  SaleType ScreenPorch Street TotRmsAbvGrd TotalBsmtSF  \\\n",
       "0            Normal        WD         0.0   Pave     1.162283    2.048136   \n",
       "1            Normal        WD         0.0   Pave     1.080418    2.096943   \n",
       "2            Normal        WD         0.0   Pave     1.080418    2.057383   \n",
       "3           Abnorml        WD         0.0   Pave     1.124748    2.032004   \n",
       "4            Normal        WD         0.0   Pave     1.194706    2.084931   \n",
       "...             ...       ...         ...    ...          ...         ...   \n",
       "2914         Normal        WD         0.0   Pave     1.026672    1.988484   \n",
       "2915        Abnorml        WD         0.0   Pave     1.080418    1.988484   \n",
       "2916        Abnorml        WD         0.0   Pave     1.124748    2.093184   \n",
       "2917         Normal        WD         0.0   Pave     1.080418    2.056267   \n",
       "2918         Normal        WD         0.0   Pave     1.194706    2.067464   \n",
       "\n",
       "      Utilities  WoodDeckSF  YearBuilt YearRemodAdd  \n",
       "0             3    0.000000       2003         2003  \n",
       "1             3    1.902174       1976         1976  \n",
       "2             3    0.000000       2001         2002  \n",
       "3             3    0.000000       1915         1970  \n",
       "4             3    1.834610       2000         2000  \n",
       "...         ...         ...        ...          ...  \n",
       "2914          3    0.000000       1970         1970  \n",
       "2915          3    0.000000       1970         1970  \n",
       "2916          3    1.968973       1960         1996  \n",
       "2917          3    1.685370       1992         1992  \n",
       "2918          3    1.832945       1993         1994  \n",
       "\n",
       "[2919 rows x 67 columns]"
      ]
     },
     "execution_count": 8,
     "metadata": {},
     "output_type": "execute_result"
    }
   ],
   "source": [
    "df"
   ]
  },
  {
   "cell_type": "code",
   "execution_count": 9,
   "metadata": {},
   "outputs": [
    {
     "name": "stdout",
     "output_type": "stream",
     "text": [
      "23\n"
     ]
    },
    {
     "data": {
      "text/plain": [
       "['BldgType',\n",
       " 'CentralAir',\n",
       " 'Condition1',\n",
       " 'Condition2',\n",
       " 'Electrical',\n",
       " 'Exterior1st',\n",
       " 'Exterior2nd',\n",
       " 'Foundation',\n",
       " 'GarageType',\n",
       " 'Heating',\n",
       " 'HouseStyle',\n",
       " 'LandContour',\n",
       " 'LandSlope',\n",
       " 'LotConfig',\n",
       " 'LotShape',\n",
       " 'MSZoning',\n",
       " 'MasVnrType',\n",
       " 'Neighborhood',\n",
       " 'RoofMatl',\n",
       " 'RoofStyle',\n",
       " 'SaleCondition',\n",
       " 'SaleType',\n",
       " 'Street']"
      ]
     },
     "execution_count": 9,
     "metadata": {},
     "output_type": "execute_result"
    }
   ],
   "source": [
    "obj_feat = list(df.loc[:, df.dtypes == 'object'].columns.values)\n",
    "print(len(obj_feat))\n",
    "\n",
    "obj_feat"
   ]
  },
  {
   "cell_type": "code",
   "execution_count": 10,
   "metadata": {},
   "outputs": [],
   "source": [
    "# dummy varaibale\n",
    "dummy_drop = []\n",
    "for i in obj_feat:\n",
    "    dummy_drop += [i + '_' + str(df[i].unique()[-1])]\n",
    "\n",
    "df = pd.get_dummies(df, columns = obj_feat)\n",
    "df = df.drop(dummy_drop, axis = 1)"
   ]
  },
  {
   "cell_type": "code",
   "execution_count": 11,
   "metadata": {},
   "outputs": [
    {
     "data": {
      "text/plain": [
       "(2919, 188)"
      ]
     },
     "execution_count": 11,
     "metadata": {},
     "output_type": "execute_result"
    }
   ],
   "source": [
    "df.shape"
   ]
  },
  {
   "cell_type": "code",
   "execution_count": 12,
   "metadata": {},
   "outputs": [],
   "source": [
    "# scaling dataset with robust scaler\n",
    "from sklearn.preprocessing import RobustScaler\n",
    "scaler = RobustScaler()\n",
    "scaler.fit(df)\n",
    "df = scaler.transform(df)"
   ]
  },
  {
   "cell_type": "markdown",
   "metadata": {},
   "source": [
    "# Model Bulding"
   ]
  },
  {
   "cell_type": "code",
   "execution_count": 14,
   "metadata": {},
   "outputs": [
    {
     "name": "stdout",
     "output_type": "stream",
     "text": [
      "Shape of X_train:  1460\n",
      "Shape of X_test:  1459\n",
      "Shape of y_train:  1460\n"
     ]
    }
   ],
   "source": [
    "train_len = len(train)\n",
    "X_train = df[:train_len]\n",
    "X_test = df[train_len:]\n",
    "y_train = SalePrice\n",
    "\n",
    "print(\"Shape of X_train: \", len(X_train))\n",
    "print(\"Shape of X_test: \", len(X_test))\n",
    "print(\"Shape of y_train: \", len(y_train))\n"
   ]
  },
  {
   "cell_type": "markdown",
   "metadata": {},
   "source": [
    "# Cross Validation"
   ]
  },
  {
   "cell_type": "code",
   "execution_count": 15,
   "metadata": {},
   "outputs": [],
   "source": [
    "from sklearn.model_selection import KFold, cross_val_score\n",
    "from sklearn.metrics import make_scorer, r2_score\n",
    "\n",
    "def test_model(model, X_train=X_train, y_train=y_train):\n",
    "    cv = KFold(n_splits = 3, shuffle=True, random_state = 45)\n",
    "    r2 = make_scorer(r2_score)\n",
    "    r2_val_score = cross_val_score(model, X_train, y_train, cv=cv, scoring = r2)\n",
    "    score = [r2_val_score.mean()]\n",
    "    return score"
   ]
  },
  {
   "cell_type": "code",
   "execution_count": 16,
   "metadata": {},
   "outputs": [],
   "source": [
    "# first cross validation with df with log second without log"
   ]
  },
  {
   "cell_type": "markdown",
   "metadata": {},
   "source": [
    "# Linear Model"
   ]
  },
  {
   "cell_type": "code",
   "execution_count": 17,
   "metadata": {},
   "outputs": [
    {
     "data": {
      "text/plain": [
       "[0.854658732209586]"
      ]
     },
     "execution_count": 17,
     "metadata": {},
     "output_type": "execute_result"
    }
   ],
   "source": [
    "import sklearn.linear_model as linear_model\n",
    "LR = linear_model.LinearRegression()\n",
    "test_model(LR)"
   ]
  },
  {
   "cell_type": "code",
   "execution_count": 18,
   "metadata": {},
   "outputs": [
    {
     "data": {
      "text/plain": [
       "[0.888064926116905]"
      ]
     },
     "execution_count": 18,
     "metadata": {},
     "output_type": "execute_result"
    }
   ],
   "source": [
    "rdg = linear_model.Ridge()\n",
    "test_model(rdg)"
   ]
  },
  {
   "cell_type": "code",
   "execution_count": 19,
   "metadata": {},
   "outputs": [
    {
     "name": "stderr",
     "output_type": "stream",
     "text": [
      "C:\\ProgramData\\Anaconda3\\lib\\site-packages\\sklearn\\linear_model\\coordinate_descent.py:475: ConvergenceWarning: Objective did not converge. You might want to increase the number of iterations. Duality gap: 0.8388317725258476, tolerance: 0.015031309701037674\n",
      "  positive)\n",
      "C:\\ProgramData\\Anaconda3\\lib\\site-packages\\sklearn\\linear_model\\coordinate_descent.py:475: ConvergenceWarning: Objective did not converge. You might want to increase the number of iterations. Duality gap: 0.164636704643625, tolerance: 0.015746248308600008\n",
      "  positive)\n",
      "C:\\ProgramData\\Anaconda3\\lib\\site-packages\\sklearn\\linear_model\\coordinate_descent.py:475: ConvergenceWarning: Objective did not converge. You might want to increase the number of iterations. Duality gap: 0.8516198073708159, tolerance: 0.015776900600358995\n",
      "  positive)\n"
     ]
    },
    {
     "data": {
      "text/plain": [
       "[0.8838984300386702]"
      ]
     },
     "execution_count": 19,
     "metadata": {},
     "output_type": "execute_result"
    }
   ],
   "source": [
    "lasso = linear_model.Lasso(alpha=1e-4)\n",
    "test_model(lasso)"
   ]
  },
  {
   "cell_type": "markdown",
   "metadata": {},
   "source": [
    "# Support vector machine"
   ]
  },
  {
   "cell_type": "code",
   "execution_count": 20,
   "metadata": {},
   "outputs": [
    {
     "name": "stderr",
     "output_type": "stream",
     "text": [
      "C:\\ProgramData\\Anaconda3\\lib\\site-packages\\sklearn\\svm\\base.py:193: FutureWarning: The default value of gamma will change from 'auto' to 'scale' in version 0.22 to account better for unscaled features. Set gamma explicitly to 'auto' or 'scale' to avoid this warning.\n",
      "  \"avoid this warning.\", FutureWarning)\n",
      "C:\\ProgramData\\Anaconda3\\lib\\site-packages\\sklearn\\svm\\base.py:193: FutureWarning: The default value of gamma will change from 'auto' to 'scale' in version 0.22 to account better for unscaled features. Set gamma explicitly to 'auto' or 'scale' to avoid this warning.\n",
      "  \"avoid this warning.\", FutureWarning)\n",
      "C:\\ProgramData\\Anaconda3\\lib\\site-packages\\sklearn\\svm\\base.py:193: FutureWarning: The default value of gamma will change from 'auto' to 'scale' in version 0.22 to account better for unscaled features. Set gamma explicitly to 'auto' or 'scale' to avoid this warning.\n",
      "  \"avoid this warning.\", FutureWarning)\n"
     ]
    },
    {
     "data": {
      "text/plain": [
       "[0.8829505588692946]"
      ]
     },
     "execution_count": 20,
     "metadata": {},
     "output_type": "execute_result"
    }
   ],
   "source": [
    "from sklearn.svm import SVR\n",
    "svr = SVR(kernel='rbf')\n",
    "test_model(svr)"
   ]
  },
  {
   "cell_type": "markdown",
   "metadata": {},
   "source": [
    "# svm hyper parameter tuning"
   ]
  },
  {
   "cell_type": "code",
   "execution_count": 22,
   "metadata": {
    "scrolled": true
   },
   "outputs": [
    {
     "data": {
      "text/plain": [
       "0.896113151557455"
      ]
     },
     "execution_count": 22,
     "metadata": {},
     "output_type": "execute_result"
    }
   ],
   "source": [
    "from sklearn.model_selection import RandomizedSearchCV, GridSearchCV\n",
    "params = {'kernel': ['rbf'],\n",
    "         'gamma': [1, 0.1, 0.01, 0.001, 0.0001],\n",
    "         'C': [0.1, 1, 10, 100, 1000],\n",
    "         'epsilon': [1, 0.2, 0.1, 0.01, 0.001, 0.0001]}\n",
    "rand_search = RandomizedSearchCV(svr_reg, param_distributions=params, n_jobs=-1, cv=11)\n",
    "rand_search.fit(X_train, y_train)\n",
    "rand_search.best_score_"
   ]
  },
  {
   "cell_type": "code",
   "execution_count": 26,
   "metadata": {},
   "outputs": [
    {
     "data": {
      "text/plain": [
       "SVR(C=10, cache_size=200, coef0=0.0, degree=3, epsilon=0.1, gamma=0.001,\n",
       "    kernel='rbf', max_iter=-1, shrinking=True, tol=0.001, verbose=False)"
      ]
     },
     "execution_count": 26,
     "metadata": {},
     "output_type": "execute_result"
    }
   ],
   "source": [
    "rand_search.best_estimator_"
   ]
  },
  {
   "cell_type": "code",
   "execution_count": 27,
   "metadata": {},
   "outputs": [
    {
     "data": {
      "text/plain": [
       "[0.8879819130252286]"
      ]
     },
     "execution_count": 27,
     "metadata": {},
     "output_type": "execute_result"
    }
   ],
   "source": [
    "svr_reg1=SVR(C=10, cache_size=200, coef0=0.0, degree=3, epsilon=0.1, gamma=0.001,\n",
    "    kernel='rbf', max_iter=-1, shrinking=True, tol=0.001, verbose=False)\n",
    "test_model(svr_reg1)"
   ]
  },
  {
   "cell_type": "code",
   "execution_count": 36,
   "metadata": {},
   "outputs": [
    {
     "data": {
      "text/plain": [
       "[0.9002022271963562]"
      ]
     },
     "execution_count": 36,
     "metadata": {},
     "output_type": "execute_result"
    }
   ],
   "source": [
    "svr_reg= SVR(C=100, cache_size=200, coef0=0.0, degree=3, epsilon=0.01, gamma=0.0001,\n",
    "    kernel='rbf', max_iter=-1, shrinking=True, tol=0.001, verbose=False)\n",
    "test_model(svr_reg)"
   ]
  },
  {
   "cell_type": "markdown",
   "metadata": {},
   "source": [
    "# XGBoost"
   ]
  },
  {
   "cell_type": "code",
   "execution_count": 23,
   "metadata": {},
   "outputs": [
    {
     "name": "stderr",
     "output_type": "stream",
     "text": [
      "C:\\ProgramData\\Anaconda3\\lib\\site-packages\\xgboost\\core.py:587: FutureWarning: Series.base is deprecated and will be removed in a future version\n",
      "  if getattr(data, 'base', None) is not None and \\\n"
     ]
    },
    {
     "name": "stdout",
     "output_type": "stream",
     "text": [
      "[18:30:03] WARNING: src/objective/regression_obj.cu:152: reg:linear is now deprecated in favor of reg:squarederror.\n"
     ]
    },
    {
     "name": "stderr",
     "output_type": "stream",
     "text": [
      "C:\\ProgramData\\Anaconda3\\lib\\site-packages\\xgboost\\core.py:587: FutureWarning: Series.base is deprecated and will be removed in a future version\n",
      "  if getattr(data, 'base', None) is not None and \\\n"
     ]
    },
    {
     "name": "stdout",
     "output_type": "stream",
     "text": [
      "[18:30:04] WARNING: src/objective/regression_obj.cu:152: reg:linear is now deprecated in favor of reg:squarederror.\n"
     ]
    },
    {
     "name": "stderr",
     "output_type": "stream",
     "text": [
      "C:\\ProgramData\\Anaconda3\\lib\\site-packages\\xgboost\\core.py:587: FutureWarning: Series.base is deprecated and will be removed in a future version\n",
      "  if getattr(data, 'base', None) is not None and \\\n"
     ]
    },
    {
     "name": "stdout",
     "output_type": "stream",
     "text": [
      "[18:30:05] WARNING: src/objective/regression_obj.cu:152: reg:linear is now deprecated in favor of reg:squarederror.\n"
     ]
    },
    {
     "data": {
      "text/plain": [
       "[0.8869273850385838]"
      ]
     },
     "execution_count": 23,
     "metadata": {},
     "output_type": "execute_result"
    }
   ],
   "source": [
    "import xgboost\n",
    "#xgb_reg=xgboost.XGBRegressor()\n",
    "xgb_reg = xgboost.XGBRegressor(bbooster='gbtree', random_state=51)\n",
    "test_model(xgb_reg)"
   ]
  },
  {
   "cell_type": "code",
   "execution_count": 24,
   "metadata": {},
   "outputs": [
    {
     "name": "stderr",
     "output_type": "stream",
     "text": [
      "C:\\ProgramData\\Anaconda3\\lib\\site-packages\\xgboost\\core.py:587: FutureWarning: Series.base is deprecated and will be removed in a future version\n",
      "  if getattr(data, 'base', None) is not None and \\\n"
     ]
    },
    {
     "name": "stdout",
     "output_type": "stream",
     "text": [
      "[18:30:05] WARNING: src/objective/regression_obj.cu:152: reg:linear is now deprecated in favor of reg:squarederror.\n"
     ]
    },
    {
     "name": "stderr",
     "output_type": "stream",
     "text": [
      "C:\\ProgramData\\Anaconda3\\lib\\site-packages\\xgboost\\core.py:587: FutureWarning: Series.base is deprecated and will be removed in a future version\n",
      "  if getattr(data, 'base', None) is not None and \\\n"
     ]
    },
    {
     "name": "stdout",
     "output_type": "stream",
     "text": [
      "[18:30:12] WARNING: src/objective/regression_obj.cu:152: reg:linear is now deprecated in favor of reg:squarederror.\n"
     ]
    },
    {
     "name": "stderr",
     "output_type": "stream",
     "text": [
      "C:\\ProgramData\\Anaconda3\\lib\\site-packages\\xgboost\\core.py:587: FutureWarning: Series.base is deprecated and will be removed in a future version\n",
      "  if getattr(data, 'base', None) is not None and \\\n"
     ]
    },
    {
     "name": "stdout",
     "output_type": "stream",
     "text": [
      "[18:30:19] WARNING: src/objective/regression_obj.cu:152: reg:linear is now deprecated in favor of reg:squarederror.\n"
     ]
    },
    {
     "data": {
      "text/plain": [
       "[0.895543397957716]"
      ]
     },
     "execution_count": 24,
     "metadata": {},
     "output_type": "execute_result"
    }
   ],
   "source": [
    "xgb2_reg=xgboost.XGBRegressor(n_estimators= 899,\n",
    " mon_child_weight= 2,\n",
    " max_depth= 4,\n",
    " learning_rate= 0.05,\n",
    " booster= 'gbtree')\n",
    "\n",
    "test_model(xgb2_reg)"
   ]
  },
  {
   "cell_type": "markdown",
   "metadata": {},
   "source": [
    "# Solution"
   ]
  },
  {
   "cell_type": "code",
   "execution_count": 29,
   "metadata": {},
   "outputs": [
    {
     "name": "stderr",
     "output_type": "stream",
     "text": [
      "C:\\ProgramData\\Anaconda3\\lib\\site-packages\\xgboost\\core.py:587: FutureWarning: Series.base is deprecated and will be removed in a future version\n",
      "  if getattr(data, 'base', None) is not None and \\\n"
     ]
    },
    {
     "name": "stdout",
     "output_type": "stream",
     "text": [
      "[18:43:20] WARNING: src/objective/regression_obj.cu:152: reg:linear is now deprecated in favor of reg:squarederror.\n"
     ]
    },
    {
     "data": {
      "text/html": [
       "<div>\n",
       "<style scoped>\n",
       "    .dataframe tbody tr th:only-of-type {\n",
       "        vertical-align: middle;\n",
       "    }\n",
       "\n",
       "    .dataframe tbody tr th {\n",
       "        vertical-align: top;\n",
       "    }\n",
       "\n",
       "    .dataframe thead th {\n",
       "        text-align: right;\n",
       "    }\n",
       "</style>\n",
       "<table border=\"1\" class=\"dataframe\">\n",
       "  <thead>\n",
       "    <tr style=\"text-align: right;\">\n",
       "      <th></th>\n",
       "      <th>Id</th>\n",
       "      <th>SalePrice</th>\n",
       "    </tr>\n",
       "  </thead>\n",
       "  <tbody>\n",
       "    <tr>\n",
       "      <th>0</th>\n",
       "      <td>1461</td>\n",
       "      <td>124437.382812</td>\n",
       "    </tr>\n",
       "    <tr>\n",
       "      <th>1</th>\n",
       "      <td>1462</td>\n",
       "      <td>168348.343750</td>\n",
       "    </tr>\n",
       "    <tr>\n",
       "      <th>2</th>\n",
       "      <td>1463</td>\n",
       "      <td>192742.093750</td>\n",
       "    </tr>\n",
       "    <tr>\n",
       "      <th>3</th>\n",
       "      <td>1464</td>\n",
       "      <td>194002.046875</td>\n",
       "    </tr>\n",
       "    <tr>\n",
       "      <th>4</th>\n",
       "      <td>1465</td>\n",
       "      <td>182459.687500</td>\n",
       "    </tr>\n",
       "    <tr>\n",
       "      <th>...</th>\n",
       "      <td>...</td>\n",
       "      <td>...</td>\n",
       "    </tr>\n",
       "    <tr>\n",
       "      <th>1454</th>\n",
       "      <td>2915</td>\n",
       "      <td>80093.421875</td>\n",
       "    </tr>\n",
       "    <tr>\n",
       "      <th>1455</th>\n",
       "      <td>2916</td>\n",
       "      <td>83680.359375</td>\n",
       "    </tr>\n",
       "    <tr>\n",
       "      <th>1456</th>\n",
       "      <td>2917</td>\n",
       "      <td>146870.906250</td>\n",
       "    </tr>\n",
       "    <tr>\n",
       "      <th>1457</th>\n",
       "      <td>2918</td>\n",
       "      <td>114270.882812</td>\n",
       "    </tr>\n",
       "    <tr>\n",
       "      <th>1458</th>\n",
       "      <td>2919</td>\n",
       "      <td>216138.593750</td>\n",
       "    </tr>\n",
       "  </tbody>\n",
       "</table>\n",
       "<p>1459 rows × 2 columns</p>\n",
       "</div>"
      ],
      "text/plain": [
       "        Id      SalePrice\n",
       "0     1461  124437.382812\n",
       "1     1462  168348.343750\n",
       "2     1463  192742.093750\n",
       "3     1464  194002.046875\n",
       "4     1465  182459.687500\n",
       "...    ...            ...\n",
       "1454  2915   80093.421875\n",
       "1455  2916   83680.359375\n",
       "1456  2917  146870.906250\n",
       "1457  2918  114270.882812\n",
       "1458  2919  216138.593750\n",
       "\n",
       "[1459 rows x 2 columns]"
      ]
     },
     "execution_count": 29,
     "metadata": {},
     "output_type": "execute_result"
    }
   ],
   "source": [
    "xgb2_reg.fit(X_train,y_train)\n",
    "y_pred = np.exp(xgb2_reg.predict(X_test)).round(2)\n",
    "submit_test = pd.concat([test['Id'],pd.DataFrame(y_pred)], axis=1)\n",
    "submit_test.columns=['Id', 'SalePrice']\n",
    "submit_test.to_csv('sample_submission.csv', index=False)\n",
    "submit_test\n",
    "\n",
    "\"\"\"\n",
    "Rank: 1444\n",
    "Red AI Productionnovice \n",
    "tier\n",
    "0.12278\n",
    "5\n",
    "now\n",
    "Your Best Entry \n",
    "Your submission scored 0.13481, which is not an improvement of your best score. Keep trying!\"\"\""
   ]
  },
  {
   "cell_type": "code",
   "execution_count": null,
   "metadata": {},
   "outputs": [],
   "source": [
    "svr_reg.fit(X_train,y_train)\n",
    "y_pred = np.exp(svr_reg.predict(X_test)).round(2)\n",
    "submit_test = pd.concat([test['Id'],pd.DataFrame(y_pred)], axis=1)\n",
    "submit_test.columns=['Id', 'SalePrice']\n",
    "submit_test.to_csv('sample_submission.csv', index=False)\n",
    "submit_test\n",
    "\n",
    "\"\"\"\n",
    "file: sample_submission-v1-fs\n",
    "rank: 1444\n",
    "Red AI Productionnovice tier\n",
    "0.12278\n",
    "4\n",
    "3m\n",
    "Your Best Entry \n",
    "You advanced 140 places on the leaderboard!\n",
    "\n",
    "Your submission scored 0.12278, which is an improvement of your previous score of 0.12484. Great job!\"\"\""
   ]
  },
  {
   "cell_type": "markdown",
   "metadata": {},
   "source": [
    "# Model Save"
   ]
  },
  {
   "cell_type": "code",
   "execution_count": 34,
   "metadata": {},
   "outputs": [
    {
     "data": {
      "text/plain": [
       "array([11.66072156, 12.01923057, 12.1316775 , ..., 12.03046738,\n",
       "       11.72310123, 12.29459311])"
      ]
     },
     "execution_count": 34,
     "metadata": {},
     "output_type": "execute_result"
    }
   ],
   "source": [
    "import pickle\n",
    "\n",
    "pickle.dump(svr_reg, open('model_house_price_prediction.csv', 'wb'))\n",
    "model_house_price_prediction = pickle.load(open('model_house_price_prediction.csv', 'rb'))\n",
    "model_house_price_prediction.predict(X_test)"
   ]
  },
  {
   "cell_type": "code",
   "execution_count": 35,
   "metadata": {
    "scrolled": true
   },
   "outputs": [
    {
     "data": {
      "text/plain": [
       "[0.9002022271963562]"
      ]
     },
     "execution_count": 35,
     "metadata": {},
     "output_type": "execute_result"
    }
   ],
   "source": [
    "test_model(model_house_price_prediction)"
   ]
  },
  {
   "cell_type": "markdown",
   "metadata": {},
   "source": [
    "# SVM Accuracy = 90%"
   ]
  },
  {
   "cell_type": "markdown",
   "metadata": {},
   "source": [
    "# Machine Learning Model Building Never End Until And Unless App Not Stop"
   ]
  }
 ],
 "metadata": {
  "kernelspec": {
   "display_name": "Python 3",
   "language": "python",
   "name": "python3"
  },
  "language_info": {
   "codemirror_mode": {
    "name": "ipython",
    "version": 3
   },
   "file_extension": ".py",
   "mimetype": "text/x-python",
   "name": "python",
   "nbconvert_exporter": "python",
   "pygments_lexer": "ipython3",
   "version": "3.7.3"
  }
 },
 "nbformat": 4,
 "nbformat_minor": 2
}
